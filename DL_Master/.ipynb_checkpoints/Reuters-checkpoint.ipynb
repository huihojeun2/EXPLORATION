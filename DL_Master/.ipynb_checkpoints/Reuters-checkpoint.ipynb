{
 "cells": [
  {
   "cell_type": "code",
   "execution_count": 1,
   "id": "55906ab3",
   "metadata": {},
   "outputs": [],
   "source": [
    "import numpy as np\n",
    "import matplotlib.pyplot as plt\n",
    "from sklearn.model_selection import train_test_split\n",
    "\n",
    "from tensorflow.keras import models, layers, Input\n",
    "from tensorflow.keras import callbacks\n",
    "from tensorflow.keras import utils\n",
    "from keras.datasets import reuters"
   ]
  },
  {
   "cell_type": "code",
   "execution_count": 2,
   "id": "ca1de66a",
   "metadata": {
    "scrolled": true
   },
   "outputs": [
    {
     "name": "stdout",
     "output_type": "stream",
     "text": [
      "6736\n",
      "2246\n",
      "2246\n",
      "46\n"
     ]
    }
   ],
   "source": [
    "# reuters 데이터셋 로드\n",
    "(train_data, train_labels), (test_data, test_labels) = reuters.load_data(num_words=10000)\n",
    "\n",
    "# 훈련 데이터셋에서 25%를 검증 데이터셋으로 분리\n",
    "train_data, val_data, train_labels, val_labels = train_test_split(train_data, train_labels, test_size=0.25, random_state=100)\n",
    "\n",
    "\n",
    "# 훈련, 검증, 테스트 데이터와 레이블 종류가 몇 개인지 출력합니다.\n",
    "print(len(train_data))  # 훈련 데이터셋 크기\n",
    "print(len(val_data))  # 검증 데이터셋 크기\n",
    "print(len(test_data))  # 테스트 데이터셋 크기\n",
    "print(len(set(train_labels)))  # 레이블 종류 수\n"
   ]
  },
  {
   "cell_type": "code",
   "execution_count": 3,
   "id": "75753815",
   "metadata": {},
   "outputs": [],
   "source": [
    "# 문제 2-2: 텍스트 데이터의 전처리를 위해서 각 데이터셋마다 원-핫 인코딩을 수행합니다.\n",
    "def one_hot_encoding(data, dim=10000):\n",
    "    results = np.zeros((len(data), dim))\n",
    "    for i, sequence in enumerate(data):\n",
    "        results[i, sequence] = 1.\n",
    "    return results\n",
    "\n",
    "# 원-핫 인코딩 수행\n",
    "x_train = one_hot_encoding(train_data)\n",
    "x_val = one_hot_encoding(val_data)\n",
    "x_test = one_hot_encoding(test_data)\n",
    "\n",
    "# 레이블 데이터들은 범주형 형태로 to_categorical() 함수를 사용해 변환합니다.\n",
    "# 레이블 데이터 범주형으로 변환\n",
    "from keras.utils.np_utils import to_categorical\n",
    "\n",
    "one_hot_train_labels = to_categorical(train_labels)\n",
    "one_hot_val_labels = to_categorical(val_labels)\n",
    "one_hot_test_labels = to_categorical(test_labels)\n"
   ]
  },
  {
   "cell_type": "code",
   "execution_count": 4,
   "id": "31c7553f",
   "metadata": {},
   "outputs": [],
   "source": [
    "# 문제 2-3: 빠른 학습과 과대적합을 방지하기 위해 BatchNormalization과 Dropout을 적용한 딥러닝 모델을 구성합니다.\n",
    "# 딥러닝 모델 구성\n",
    "# 모델 구성\n",
    "inputs = Input(shape=(10000,))\n",
    "x = layers.Dense(64, activation='relu')(inputs)\n",
    "x = layers.BatchNormalization()(x)\n",
    "x = layers.Dropout(0.5)(x)\n",
    "x = layers.Dense(64, activation='relu')(x)\n",
    "x = layers.BatchNormalization()(x)\n",
    "x = layers.Dropout(0.5)(x)\n",
    "outputs = layers.Dense(46, activation='softmax')(x)\n",
    "\n",
    "# 모델 인스턴스 생성\n",
    "model = models.Model(inputs=inputs, outputs=outputs)\n",
    "\n",
    "# 모델 컴파일\n",
    "model.compile(optimizer='rmsprop',\n",
    "              loss='categorical_crossentropy',\n",
    "              metrics=['accuracy'])\n"
   ]
  },
  {
   "cell_type": "code",
   "execution_count": 5,
   "id": "12aeb0cf",
   "metadata": {},
   "outputs": [
    {
     "name": "stdout",
     "output_type": "stream",
     "text": [
      "Model: \"model\"\n",
      "_________________________________________________________________\n",
      "Layer (type)                 Output Shape              Param #   \n",
      "=================================================================\n",
      "input_1 (InputLayer)         [(None, 10000)]           0         \n",
      "_________________________________________________________________\n",
      "dense (Dense)                (None, 64)                640064    \n",
      "_________________________________________________________________\n",
      "batch_normalization (BatchNo (None, 64)                256       \n",
      "_________________________________________________________________\n",
      "dropout (Dropout)            (None, 64)                0         \n",
      "_________________________________________________________________\n",
      "dense_1 (Dense)              (None, 64)                4160      \n",
      "_________________________________________________________________\n",
      "batch_normalization_1 (Batch (None, 64)                256       \n",
      "_________________________________________________________________\n",
      "dropout_1 (Dropout)          (None, 64)                0         \n",
      "_________________________________________________________________\n",
      "dense_2 (Dense)              (None, 46)                2990      \n",
      "=================================================================\n",
      "Total params: 647,726\n",
      "Trainable params: 647,470\n",
      "Non-trainable params: 256\n",
      "_________________________________________________________________\n"
     ]
    }
   ],
   "source": [
    "model.summary()"
   ]
  },
  {
   "cell_type": "code",
   "execution_count": 6,
   "id": "dc77ee6b",
   "metadata": {},
   "outputs": [
    {
     "name": "stdout",
     "output_type": "stream",
     "text": [
      "Epoch 1/20\n",
      "14/14 [==============================] - 2s 48ms/step - loss: 3.2199 - accuracy: 0.3146 - val_loss: 3.4287 - val_accuracy: 0.5988\n",
      "Epoch 2/20\n",
      "14/14 [==============================] - 0s 15ms/step - loss: 2.1040 - accuracy: 0.5664 - val_loss: 3.1115 - val_accuracy: 0.6585\n",
      "Epoch 3/20\n",
      "14/14 [==============================] - 0s 16ms/step - loss: 1.6639 - accuracy: 0.6557 - val_loss: 2.8424 - val_accuracy: 0.6874\n",
      "Epoch 4/20\n",
      "14/14 [==============================] - 0s 15ms/step - loss: 1.4039 - accuracy: 0.7049 - val_loss: 2.5956 - val_accuracy: 0.6999\n",
      "Epoch 5/20\n",
      "14/14 [==============================] - 0s 16ms/step - loss: 1.2220 - accuracy: 0.7414 - val_loss: 2.3888 - val_accuracy: 0.6950\n",
      "Epoch 6/20\n",
      "14/14 [==============================] - 0s 14ms/step - loss: 1.0748 - accuracy: 0.7669 - val_loss: 2.1815 - val_accuracy: 0.6990\n",
      "Epoch 7/20\n",
      "14/14 [==============================] - 0s 16ms/step - loss: 0.9764 - accuracy: 0.7782 - val_loss: 2.0131 - val_accuracy: 0.7173\n",
      "Epoch 8/20\n",
      "14/14 [==============================] - 0s 16ms/step - loss: 0.8814 - accuracy: 0.7960 - val_loss: 1.8375 - val_accuracy: 0.7084\n",
      "Epoch 9/20\n",
      "14/14 [==============================] - 0s 16ms/step - loss: 0.8150 - accuracy: 0.8118 - val_loss: 1.6926 - val_accuracy: 0.7159\n",
      "Epoch 10/20\n",
      "14/14 [==============================] - 0s 16ms/step - loss: 0.7333 - accuracy: 0.8226 - val_loss: 1.5554 - val_accuracy: 0.7106\n",
      "Epoch 11/20\n",
      "14/14 [==============================] - 0s 16ms/step - loss: 0.7039 - accuracy: 0.8354 - val_loss: 1.4741 - val_accuracy: 0.7137\n",
      "Epoch 12/20\n",
      "14/14 [==============================] - 0s 15ms/step - loss: 0.6563 - accuracy: 0.8447 - val_loss: 1.3630 - val_accuracy: 0.7418\n",
      "Epoch 13/20\n",
      "14/14 [==============================] - 0s 14ms/step - loss: 0.6093 - accuracy: 0.8515 - val_loss: 1.3159 - val_accuracy: 0.7226\n",
      "Epoch 14/20\n",
      "14/14 [==============================] - 0s 14ms/step - loss: 0.5755 - accuracy: 0.8613 - val_loss: 1.2339 - val_accuracy: 0.7386\n",
      "Epoch 15/20\n",
      "14/14 [==============================] - 0s 15ms/step - loss: 0.5363 - accuracy: 0.8771 - val_loss: 1.1818 - val_accuracy: 0.7418\n",
      "Epoch 16/20\n",
      "14/14 [==============================] - 0s 15ms/step - loss: 0.5229 - accuracy: 0.8713 - val_loss: 1.1320 - val_accuracy: 0.7516\n",
      "Epoch 17/20\n",
      "14/14 [==============================] - 0s 14ms/step - loss: 0.5050 - accuracy: 0.8766 - val_loss: 1.0907 - val_accuracy: 0.7609\n",
      "Epoch 18/20\n",
      "14/14 [==============================] - 0s 14ms/step - loss: 0.4747 - accuracy: 0.8855 - val_loss: 1.0755 - val_accuracy: 0.7596\n",
      "Epoch 19/20\n",
      "14/14 [==============================] - 0s 15ms/step - loss: 0.4631 - accuracy: 0.8922 - val_loss: 1.0333 - val_accuracy: 0.7738\n",
      "Epoch 20/20\n",
      "14/14 [==============================] - 0s 14ms/step - loss: 0.4428 - accuracy: 0.8888 - val_loss: 1.0145 - val_accuracy: 0.7738\n"
     ]
    }
   ],
   "source": [
    "# 문제 2-4: ModelCheckpoint와 EarlyStopping 콜백 함수를 적용하여 모델 학습을 진행합니다.\n",
    "# 콜백 함수 설정\n",
    "callbacks_list = [\n",
    "    callbacks.EarlyStopping(\n",
    "        monitor='val_loss',\n",
    "        patience=10,\n",
    "    ),\n",
    "    callbacks.ModelCheckpoint(\n",
    "        filepath='my_model.h5',\n",
    "        monitor='val_loss',\n",
    "        save_best_only=True,\n",
    "    )\n",
    "]\n",
    "\n",
    "# 모델 학습\n",
    "history = model.fit(x_train,\n",
    "                    one_hot_train_labels,\n",
    "                    epochs=20,\n",
    "                    batch_size=512,\n",
    "                    validation_data=(x_val, one_hot_val_labels),\n",
    "                    callbacks=callbacks_list)\n"
   ]
  },
  {
   "cell_type": "code",
   "execution_count": 7,
   "id": "9feea7a9",
   "metadata": {},
   "outputs": [
    {
     "data": {
      "image/png": "[encoded data removed]",
      "text/plain": [
       "<Figure size 864x360 with 2 Axes>"
      ]
     },
     "metadata": {},
     "output_type": "display_data"
    }
   ],
   "source": [
    "# 학습 히스토리의 `loss`, `val_loss`, `accuracy`, `val_accuracy`를 차트로 시각화합니다.\n",
    "plt.style.use('seaborn-white')\n",
    "\n",
    "history_dict = history.history\n",
    "\n",
    "loss = history_dict['loss']\n",
    "val_loss = history_dict['val_loss']\n",
    "\n",
    "epochs = range(1, len(loss) + 1)\n",
    "fig = plt.figure(figsize=(12, 5))\n",
    "\n",
    "ax1 = fig.add_subplot(1, 2, 1)\n",
    "ax1.plot(epochs, loss, 'b-', label='train_loss')\n",
    "ax1.plot(epochs, val_loss, 'r-', label='val_loss')\n",
    "ax1.set_title('Train and Validation Loss')\n",
    "ax1.set_xlabel('Epochs')\n",
    "ax1.set_ylabel('Loss')\n",
    "ax1.grid()\n",
    "ax1.legend()\n",
    "\n",
    "accuracy = history_dict['accuracy']\n",
    "val_accuracy = history_dict['val_accuracy']\n",
    "\n",
    "ax2 = fig.add_subplot(1, 2, 2)\n",
    "ax2.plot(epochs, accuracy, 'b-', label='train_accuracy')\n",
    "ax2.plot(epochs, val_accuracy, 'r-', label='val_accuracy')\n",
    "ax2.set_title('Train and Validation Accuracy')\n",
    "ax2.set_xlabel('Epochs')\n",
    "ax2.set_ylabel('Accuracy')\n",
    "ax2.grid()\n",
    "ax2.legend()\n",
    "\n",
    "plt.show()"
   ]
  },
  {
   "cell_type": "code",
   "execution_count": 8,
   "id": "6f6ef21a",
   "metadata": {},
   "outputs": [
    {
     "name": "stdout",
     "output_type": "stream",
     "text": [
      "71/71 [==============================] - 0s 2ms/step - loss: 1.0459 - accuracy: 0.7640\n",
      "Test Loss: 1.0458976030349731\n",
      "Test Accuracy: 0.7640249133110046\n"
     ]
    }
   ],
   "source": [
    "# 문제 2-5: 테스트 데이터셋을 이용해 모델을 평가합니다.\n",
    "# 모델 평가\n",
    "test_loss, test_acc = model.evaluate(x_test, one_hot_test_labels)\n",
    "print(\"Test Loss:\", test_loss)\n",
    "print(\"Test Accuracy:\", test_acc)"
   ]
  },
  {
   "cell_type": "code",
   "execution_count": null,
   "id": "f0c67b82",
   "metadata": {},
   "outputs": [],
   "source": []
  }
 ],
 "metadata": {
  "kernelspec": {
   "display_name": "Python 3 (ipykernel)",
   "language": "python",
   "name": "python3"
  },
  "language_info": {
   "codemirror_mode": {
    "name": "ipython",
    "version": 3
   },
   "file_extension": ".py",
   "mimetype": "text/x-python",
   "name": "python",
   "nbconvert_exporter": "python",
   "pygments_lexer": "ipython3",
   "version": "3.9.7"
  }
 },
 "nbformat": 4,
 "nbformat_minor": 5
}
