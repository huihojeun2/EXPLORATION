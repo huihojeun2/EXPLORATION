{
 "cells": [
  {
   "cell_type": "code",
   "execution_count": 1,
   "id": "1e176436",
   "metadata": {},
   "outputs": [],
   "source": [
    "from tensorflow.keras import models, layers\n",
    "import matplotlib.pyplot as plt"
   ]
  },
  {
   "cell_type": "code",
   "execution_count": 2,
   "id": "b74b88d3",
   "metadata": {},
   "outputs": [
    {
     "name": "stdout",
     "output_type": "stream",
     "text": [
      "404\n",
      "102\n"
     ]
    }
   ],
   "source": [
    "# keras.datasets 안에 boston_housing 데이터셋을 로드합니다.\n",
    "from keras.datasets import boston_housing\n",
    "\n",
    "(train_data, train_labels), (test_data, test_labels) = boston_housing.load_data()\n",
    "\n",
    "# 데이터셋의 크기를 확인합니다.\n",
    "print(len(train_data))\n",
    "print(len(test_data))"
   ]
  },
  {
   "cell_type": "code",
   "execution_count": 3,
   "id": "78513978",
   "metadata": {},
   "outputs": [],
   "source": [
    "# 입력 데이터의 각 특성의 평균을 뺍니다.\n",
    "mean = train_data.mean(axis=0)\n",
    "train_data -= mean\n",
    "\n",
    "# 평균을 뺀 입력 데이터에서 표준편차를 나눕니다.\n",
    "std = train_data.std(axis=0)\n",
    "train_data /= std\n",
    "\n",
    "# 테스트 데이터셋도 마찬가지로 평균을 빼고, 표준편차로 나눕니다.\n",
    "# 주의할 점은 테스트 데이터의 표준화는 학습 데이터의 평균과 표준편차를 사용해야 한다는 점입니다.\n",
    "test_data -= mean\n",
    "test_data /= std"
   ]
  },
  {
   "cell_type": "code",
   "execution_count": 5,
   "id": "b871380a",
   "metadata": {},
   "outputs": [],
   "source": [
    "# 문제 1-2: 주택 가격 예측을 위한 딥러닝 모델 구성 및 컴파일합니다.\n",
    "# input_shape은 (train_data.shape[1], )으로 구성합니다.\n",
    "# 회귀(예측)을 위한 모델이므로 loss를 mse, metrics를 mae로 사용합니다.\n",
    "from tensorflow.keras import models, layers, Input\n",
    "\n",
    "# 모델 구성\n",
    "input = Input(shape=(train_data.shape[1],))\n",
    "x = layers.Dense(64, activation='relu')(input)\n",
    "x = layers.Dense(64, activation='relu')(x)\n",
    "output = layers.Dense(1)(x)  # 회귀(예측)을 위한 레이어이므로 활성화 함수는 사용하지 않습니다.\n",
    "\n",
    "# 모델 인스턴스 생성\n",
    "model = models.Model(inputs=input, outputs=output)\n",
    "\n",
    "# 모델 컴파일\n",
    "model.compile(optimizer='rmsprop', loss='mse', metrics=['mae'])\n"
   ]
  },
  {
   "cell_type": "code",
   "execution_count": 6,
   "id": "c173e4fa",
   "metadata": {},
   "outputs": [
    {
     "name": "stdout",
     "output_type": "stream",
     "text": [
      "Epoch 1/20\n",
      "21/21 [==============================] - 10s 9ms/step - loss: 525.6876 - mae: 20.9472 - val_loss: 532.4402 - val_mae: 21.2082\n",
      "Epoch 2/20\n",
      "21/21 [==============================] - 0s 4ms/step - loss: 409.5938 - mae: 18.1189 - val_loss: 390.4628 - val_mae: 17.8313\n",
      "Epoch 3/20\n",
      "21/21 [==============================] - 0s 3ms/step - loss: 278.5470 - mae: 14.4875 - val_loss: 256.0200 - val_mae: 13.8774\n",
      "Epoch 4/20\n",
      "21/21 [==============================] - 0s 4ms/step - loss: 155.8296 - mae: 10.2978 - val_loss: 126.0741 - val_mae: 8.7737\n",
      "Epoch 5/20\n",
      "21/21 [==============================] - 0s 3ms/step - loss: 71.3337 - mae: 6.3888 - val_loss: 64.5875 - val_mae: 5.6406\n",
      "Epoch 6/20\n",
      "21/21 [==============================] - 0s 4ms/step - loss: 41.5350 - mae: 4.6358 - val_loss: 40.7205 - val_mae: 4.5784\n",
      "Epoch 7/20\n",
      "21/21 [==============================] - 0s 3ms/step - loss: 30.2363 - mae: 3.9084 - val_loss: 32.4146 - val_mae: 4.0679\n",
      "Epoch 8/20\n",
      "21/21 [==============================] - 0s 3ms/step - loss: 25.3215 - mae: 3.4838 - val_loss: 27.9310 - val_mae: 3.7088\n",
      "Epoch 9/20\n",
      "21/21 [==============================] - 0s 3ms/step - loss: 22.8735 - mae: 3.2551 - val_loss: 25.3285 - val_mae: 3.5621\n",
      "Epoch 10/20\n",
      "21/21 [==============================] - 0s 3ms/step - loss: 20.9829 - mae: 3.1366 - val_loss: 22.7053 - val_mae: 3.4248\n",
      "Epoch 11/20\n",
      "21/21 [==============================] - 0s 3ms/step - loss: 19.3779 - mae: 2.9465 - val_loss: 20.3444 - val_mae: 3.3142\n",
      "Epoch 12/20\n",
      "21/21 [==============================] - 0s 3ms/step - loss: 17.8448 - mae: 2.8580 - val_loss: 18.7607 - val_mae: 3.1445\n",
      "Epoch 13/20\n",
      "21/21 [==============================] - 0s 4ms/step - loss: 16.6900 - mae: 2.7606 - val_loss: 17.3615 - val_mae: 3.0961\n",
      "Epoch 14/20\n",
      "21/21 [==============================] - 0s 3ms/step - loss: 15.4717 - mae: 2.5991 - val_loss: 16.1056 - val_mae: 3.0194\n",
      "Epoch 15/20\n",
      "21/21 [==============================] - 0s 3ms/step - loss: 14.8514 - mae: 2.6254 - val_loss: 15.5958 - val_mae: 2.9862\n",
      "Epoch 16/20\n",
      "21/21 [==============================] - 0s 3ms/step - loss: 14.3173 - mae: 2.5690 - val_loss: 15.0476 - val_mae: 2.9193\n",
      "Epoch 17/20\n",
      "21/21 [==============================] - 0s 3ms/step - loss: 13.4344 - mae: 2.5161 - val_loss: 14.5291 - val_mae: 2.8404\n",
      "Epoch 18/20\n",
      "21/21 [==============================] - 0s 3ms/step - loss: 13.0893 - mae: 2.4286 - val_loss: 14.1163 - val_mae: 2.8504\n",
      "Epoch 19/20\n",
      "21/21 [==============================] - 0s 4ms/step - loss: 12.6193 - mae: 2.3888 - val_loss: 13.4081 - val_mae: 2.7703\n",
      "Epoch 20/20\n",
      "21/21 [==============================] - 0s 4ms/step - loss: 11.9185 - mae: 2.3515 - val_loss: 13.8733 - val_mae: 2.8648\n"
     ]
    }
   ],
   "source": [
    "# 문제 1-3: 예측을 위한 딥러닝 모델을 학습합니다. \n",
    "# 모델 학습\n",
    "history = model.fit(train_data, train_labels, epochs=20, batch_size=16, validation_split=0.2)"
   ]
  },
  {
   "cell_type": "code",
   "execution_count": 7,
   "id": "07f5bbc1",
   "metadata": {},
   "outputs": [
    {
     "data": {
      "image/png": "[encoded data removed]",
      "text/plain": [
       "<Figure size 864x360 with 2 Axes>"
      ]
     },
     "metadata": {},
     "output_type": "display_data"
    }
   ],
   "source": [
    "# 모델 학습 히스토리에서 loss, val_loss, mae, val_mae를 차트로 보여줍니다.\n",
    "plt.style.use('seaborn-white')\n",
    "\n",
    "history_dict = history.history\n",
    "\n",
    "loss = history_dict['loss']\n",
    "val_loss = history_dict['val_loss']\n",
    "\n",
    "epochs = range(1, len(loss) + 1)\n",
    "fig = plt.figure(figsize=(12, 5))\n",
    "\n",
    "ax1 = fig.add_subplot(1, 2, 1)\n",
    "ax1.plot(epochs, loss, 'b-', label='train_loss')\n",
    "ax1.plot(epochs, val_loss, 'r-', label='val_loss')\n",
    "ax1.set_title('Train and Validation Loss')\n",
    "ax1.set_xlabel('Epochs')\n",
    "ax1.set_ylabel('Loss')\n",
    "ax1.grid()\n",
    "ax1.legend()\n",
    "\n",
    "mae = history_dict['mae']\n",
    "val_mae = history_dict['val_mae']\n",
    "\n",
    "ax2 = fig.add_subplot(1, 2, 2)\n",
    "ax2.plot(epochs, mae, 'b-', label='train_mae')\n",
    "ax2.plot(epochs, val_mae, 'r-', label='val_mae')\n",
    "ax2.set_title('Train and Validation MAE')\n",
    "ax2.set_xlabel('Epochs')\n",
    "ax2.set_ylabel('Accuracy')\n",
    "ax2.grid()\n",
    "ax2.legend()\n",
    "\n",
    "plt.show()"
   ]
  },
  {
   "cell_type": "code",
   "execution_count": 8,
   "id": "6f9e0f28",
   "metadata": {},
   "outputs": [
    {
     "name": "stdout",
     "output_type": "stream",
     "text": [
      "4/4 [==============================] - 0s 2ms/step - loss: 22.1888 - mae: 3.3069\n",
      "Test MSE: 22.188844680786133\n",
      "Test MAE: 3.3069183826446533\n"
     ]
    }
   ],
   "source": [
    "# 문제 1-4: 테스트 데이터셋을 이용해 모델을 평가합니다.\n",
    "# 모델 평가\n",
    "test_mse_score, test_mae_score = model.evaluate(test_data, test_labels)\n",
    "print(\"Test MSE:\", test_mse_score)\n",
    "print(\"Test MAE:\", test_mae_score)\n"
   ]
  },
  {
   "cell_type": "code",
   "execution_count": null,
   "id": "882583aa",
   "metadata": {},
   "outputs": [],
   "source": []
  },
  {
   "cell_type": "code",
   "execution_count": null,
   "id": "42e42c53",
   "metadata": {},
   "outputs": [],
   "source": []
  },
  {
   "cell_type": "code",
   "execution_count": null,
   "id": "99e9635b",
   "metadata": {},
   "outputs": [],
   "source": []
  },
  {
   "cell_type": "code",
   "execution_count": null,
   "id": "686c9918",
   "metadata": {},
   "outputs": [],
   "source": []
  },
  {
   "cell_type": "code",
   "execution_count": null,
   "id": "4d00042e",
   "metadata": {},
   "outputs": [],
   "source": []
  },
  {
   "cell_type": "code",
   "execution_count": null,
   "id": "a1b547d8",
   "metadata": {},
   "outputs": [],
   "source": []
  },
  {
   "cell_type": "code",
   "execution_count": null,
   "id": "a099dfa6",
   "metadata": {},
   "outputs": [],
   "source": []
  }
 ],
 "metadata": {
  "kernelspec": {
   "display_name": "Python 3 (ipykernel)",
   "language": "python",
   "name": "python3"
  },
  "language_info": {
   "codemirror_mode": {
    "name": "ipython",
    "version": 3
   },
   "file_extension": ".py",
   "mimetype": "text/x-python",
   "name": "python",
   "nbconvert_exporter": "python",
   "pygments_lexer": "ipython3",
   "version": "3.9.7"
  }
 },
 "nbformat": 4,
 "nbformat_minor": 5
}
